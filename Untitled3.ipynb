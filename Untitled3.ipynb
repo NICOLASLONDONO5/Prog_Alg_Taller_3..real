{
  "nbformat": 4,
  "nbformat_minor": 0,
  "metadata": {
    "colab": {
      "provenance": [],
      "authorship_tag": "ABX9TyPX269h6HUiB63+zwjt8ub2",
      "include_colab_link": true
    },
    "kernelspec": {
      "name": "python3",
      "display_name": "Python 3"
    },
    "language_info": {
      "name": "python"
    }
  },
  "cells": [
    {
      "cell_type": "markdown",
      "metadata": {
        "id": "view-in-github",
        "colab_type": "text"
      },
      "source": [
        "<a href=\"https://colab.research.google.com/github/NICOLASLONDONO5/Prog_Alg_Taller_3..real/blob/main/Untitled3.ipynb\" target=\"_parent\"><img src=\"https://colab.research.google.com/assets/colab-badge.svg\" alt=\"Open In Colab\"/></a>"
      ]
    },
    {
      "cell_type": "code",
      "execution_count": 1,
      "metadata": {
        "colab": {
          "base_uri": "https://localhost:8080/"
        },
        "id": "kH27uauGGs-5",
        "outputId": "08eaaa9c-1584-4ce6-bfe7-804849456615"
      },
      "outputs": [
        {
          "output_type": "stream",
          "name": "stdout",
          "text": [
            "Ingresa la posición inicial (x0): 1\n",
            "Ingresa la velocidad inicial (v0): 2\n",
            "Ingresa la aceleración (a): 3\n",
            "Ingresa el primer instante de tiempo (t1): 4\n",
            "Ingresa el segundo instante de tiempo (t2): 5\n",
            "La posición en el primer instante de tiempo (t1 = 4.0) es: 33.0\n",
            "La posición en el segundo instante de tiempo (t2 = 5.0) es: 48.5\n"
          ]
        }
      ],
      "source": [
        "# Pedir al usuario que ingrese los valores\n",
        "\n",
        "x0 = float(input(\"Ingresa la posición inicial (x0): \"))\n",
        "v0= float(input(\"Ingresa la velocidad inicial (v0): \"))\n",
        "a = float(input(\"Ingresa la aceleración (a): \"))\n",
        "t1 = float(input(\"Ingresa el primer instante de tiempo (t1): \"))\n",
        "t2 = float(input(\"Ingresa el segundo instante de tiempo (t2): \"))\n",
        "\n",
        "# Calcular la posición en el primer instante de tiempo\n",
        "x1 = x0 + v0* t1 + 0.5* a * t1** 2\n",
        "\n",
        "# Calcular la posición en el segundo instante de tiempo\n",
        "\n",
        "x2 = x0 + v0* t2 + 0.5* a * t2** 2\n",
        "\n",
        "# Mostrar los resultados\n",
        "print(f\"La posición en el primer instante de tiempo (t1 = {t1}) es: {x1}\")\n",
        "print(f\"La posición en el segundo instante de tiempo (t2 = {t2}) es: {x2}\")"
      ]
    },
    {
      "cell_type": "code",
      "source": [
        "# Pedir al usuario que ingrese las coordenadas de los puntos\n",
        "x1 = float(input(\"Ingresa la coordenada x del primer punto (P1): \"))\n",
        "y1 = float(input(\"Ingresa la coordenada y del primer punto (P1): \"))\n",
        "x2 = float(input(\"Ingresa la coordenada x del segundo punto (P2): \"))\n",
        "y2 = float(input(\"Ingresa la coordenada y del segundo punto (P2): \"))\n",
        "\n",
        "# Calcular la distancia euclidiana\n",
        "\n",
        "dx = x2 - x1\n",
        "dy = y2 - y1\n",
        "\n",
        "distance = (dx * 2 + dy * 2) ** 0.5\n",
        "\n",
        "# Mostrar el resultado\n",
        "print(f\"La distancia entre los puntos P1({x1}, {y1}) y P2({x2}, {y2}) es: {distance}\")"
      ],
      "metadata": {
        "colab": {
          "base_uri": "https://localhost:8080/"
        },
        "id": "wbVv2HnBG4Fs",
        "outputId": "bf8b5e07-e70e-40e0-ef52-c1a4112a42c2"
      },
      "execution_count": 2,
      "outputs": [
        {
          "output_type": "stream",
          "name": "stdout",
          "text": [
            "Ingresa la coordenada x del primer punto (P1): 2\n",
            "Ingresa la coordenada y del primer punto (P1): 4\n",
            "Ingresa la coordenada x del segundo punto (P2): 6\n",
            "Ingresa la coordenada y del segundo punto (P2): 8\n",
            "La distancia entre los puntos P1(2.0, 4.0) y P2(6.0, 8.0) es: 4.0\n"
          ]
        }
      ]
    },
    {
      "cell_type": "code",
      "source": [
        "# Pedir al usuario que ingrese el radio y la altura del cilindro\n",
        "radio = float(input(\"Ingresa el radio del cilindro: \"))\n",
        "altura = float(input(\"Ingresa la altura del cilindro: \"))\n",
        "\n",
        "# Definir el valor de pi\n",
        "pi = 3.141592\n",
        "\n",
        "# Calcular el volumen del cilindro\n",
        "volumen = pi* (radio ** 2) * altura\n",
        "\n",
        "# Mostrar el resultado\n",
        "print(f\"El volumen del cilindro con radio (radio) y altura (altura) es: {volumen}\")\n"
      ],
      "metadata": {
        "colab": {
          "base_uri": "https://localhost:8080/"
        },
        "id": "sGwQGXduHAbN",
        "outputId": "24f97e05-91ca-4699-c966-bc7911dc0139"
      },
      "execution_count": 3,
      "outputs": [
        {
          "output_type": "stream",
          "name": "stdout",
          "text": [
            "Ingresa el radio del cilindro: 12\n",
            "Ingresa la altura del cilindro: 20\n",
            "El volumen del cilindro con radio (radio) y altura (altura) es: 9047.78496\n"
          ]
        }
      ]
    },
    {
      "cell_type": "code",
      "source": [
        "# Pedir al usuario que ingrese los valores de  A , B , C y D\n",
        "\n",
        "A = float(input(\"Ingresa el valor de A:\"))\n",
        "B = float(input(\"Ingresa el valor de B:\"))\n",
        "C = float(input(\"Ingresa el valor de C:\"))\n",
        "\n",
        "D= float(input(\"Ingresa el valor de D:\"))\n",
        "\n",
        "# Realizar las operaciones lógicas\n",
        "\n",
        "operacion1 = A * B > D\n",
        "\n",
        "operacion2 = B - C * C < D\n",
        "\n",
        "operacion3 = A * B > C\n",
        "\n",
        "operacion4 = A * C * C * B * C * C\n",
        "\n",
        "operacion5 = A + D *C *B > 5\n",
        "\n",
        "operacion6 = D - C >= -A * B\n",
        "\n",
        "operacion7 = 0 or 50 and C and 9\n",
        "\n",
        "operacion8 = A and B and C and D and 10\n",
        "\n",
        "# Mostrar los resultados de las operaciones lógicas.\n",
        "print(\"Resultados de las operaciones lógicas: \")\n",
        "\n",
        "print(f\"1. A * B * D: {operacion1}\")\n",
        "\n",
        "print(f\"2. B - C *C < D: {operacion2}\")\n",
        "\n",
        "print(f\"3. A * B > C: {operacion3}\")\n",
        "\n",
        "print(f\"4. A * C * C * B * C * C: {operacion4}\")\n",
        "\n",
        "print(f\"5. A + D * C * B > 5: {operacion5}\")\n",
        "\n",
        "print(f\"6. D - C >= -A * B: {operacion6}\")\n",
        "\n",
        "print(f\"7. 0 or 50 and C and 9: {operacion7}\")\n",
        "\n",
        "print(f\"8. A and B and C and D and 10: {operacion8}\")"
      ],
      "metadata": {
        "colab": {
          "base_uri": "https://localhost:8080/"
        },
        "id": "OUPp8qIbHIeo",
        "outputId": "f7030b0a-e44b-46c2-b8d4-0c4a451d4e2f"
      },
      "execution_count": 4,
      "outputs": [
        {
          "output_type": "stream",
          "name": "stdout",
          "text": [
            "Ingresa el valor de A:3\n",
            "Ingresa el valor de B:5\n",
            "Ingresa el valor de C:9\n",
            "Ingresa el valor de D:5\n",
            "Resultados de las operaciones lógicas: \n",
            "1. A * B * D: True\n",
            "2. B - C *C < D: True\n",
            "3. A * B > C: True\n",
            "4. A * C * C * B * C * C: 98415.0\n",
            "5. A + D * C * B > 5: True\n",
            "6. D - C >= -A * B: True\n",
            "7. 0 or 50 and C and 9: 9\n",
            "8. A and B and C and D and 10: 10\n"
          ]
        }
      ]
    }
  ]
}